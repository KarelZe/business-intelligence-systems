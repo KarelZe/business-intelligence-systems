{
 "cells": [
  {
   "cell_type": "code",
   "execution_count": 1,
   "metadata": {},
   "outputs": [],
   "source": [
    "import numpy as np\n",
    "import pandas as pd\n",
    "\n",
    "import seaborn as sns\n",
    "from pandas.tseries.holiday import USFederalHolidayCalendar\n",
    "\n",
    "from sklearn.model_selection import train_test_split\n",
    "from sklearn.linear_model import LinearRegression\n",
    "from sklearn.metrics import r2_score, mean_squared_error\n",
    "\n",
    "from yellowbrick.regressor import PredictionError, ResidualsPlot\n",
    "from yellowbrick.model_selection import FeatureImportances\n",
    "from yellowbrick.contrib.wrapper import regressor\n",
    "\n",
    "from catboost import CatBoostRegressor\n",
    "\n",
    "from scipy.optimize import minimize"
   ]
  },
  {
   "cell_type": "markdown",
   "metadata": {},
   "source": [
    "## Sample data"
   ]
  },
  {
   "cell_type": "code",
   "execution_count": 2,
   "metadata": {},
   "outputs": [],
   "source": [
    "len=1000\n",
    "start, end = '1/1/2022', '2024-09-26'\n",
    "date_indices = pd.date_range(start=start, periods=len, freq='d')\n",
    "\n",
    "product_df = pd.DataFrame(np.random.random(size=(len, 4))*100, index=date_indices, columns=['price_p0','price_p1', 'price_p2', 'price_p3'])"
   ]
  },
  {
   "cell_type": "markdown",
   "metadata": {},
   "source": [
    "## Feature Egineering"
   ]
  },
  {
   "cell_type": "code",
   "execution_count": 3,
   "metadata": {},
   "outputs": [
    {
     "data": {
      "text/html": [
       "<div>\n",
       "<style scoped>\n",
       "    .dataframe tbody tr th:only-of-type {\n",
       "        vertical-align: middle;\n",
       "    }\n",
       "\n",
       "    .dataframe tbody tr th {\n",
       "        vertical-align: top;\n",
       "    }\n",
       "\n",
       "    .dataframe thead th {\n",
       "        text-align: right;\n",
       "    }\n",
       "</style>\n",
       "<table border=\"1\" class=\"dataframe\">\n",
       "  <thead>\n",
       "    <tr style=\"text-align: right;\">\n",
       "      <th></th>\n",
       "      <th>price_p0</th>\n",
       "      <th>price_p1</th>\n",
       "      <th>price_p2</th>\n",
       "      <th>price_p3</th>\n",
       "    </tr>\n",
       "  </thead>\n",
       "  <tbody>\n",
       "    <tr>\n",
       "      <th>2022-01-01</th>\n",
       "      <td>44.851077</td>\n",
       "      <td>91.353280</td>\n",
       "      <td>15.808595</td>\n",
       "      <td>17.097665</td>\n",
       "    </tr>\n",
       "    <tr>\n",
       "      <th>2022-01-02</th>\n",
       "      <td>21.850374</td>\n",
       "      <td>57.725474</td>\n",
       "      <td>57.604895</td>\n",
       "      <td>85.831561</td>\n",
       "    </tr>\n",
       "    <tr>\n",
       "      <th>2022-01-03</th>\n",
       "      <td>83.910197</td>\n",
       "      <td>5.880570</td>\n",
       "      <td>89.898453</td>\n",
       "      <td>39.630318</td>\n",
       "    </tr>\n",
       "    <tr>\n",
       "      <th>2022-01-04</th>\n",
       "      <td>41.209756</td>\n",
       "      <td>67.354724</td>\n",
       "      <td>75.929885</td>\n",
       "      <td>38.352187</td>\n",
       "    </tr>\n",
       "    <tr>\n",
       "      <th>2022-01-05</th>\n",
       "      <td>92.350472</td>\n",
       "      <td>60.807416</td>\n",
       "      <td>99.002257</td>\n",
       "      <td>48.651800</td>\n",
       "    </tr>\n",
       "    <tr>\n",
       "      <th>...</th>\n",
       "      <td>...</td>\n",
       "      <td>...</td>\n",
       "      <td>...</td>\n",
       "      <td>...</td>\n",
       "    </tr>\n",
       "    <tr>\n",
       "      <th>2024-09-22</th>\n",
       "      <td>87.554837</td>\n",
       "      <td>0.354055</td>\n",
       "      <td>51.003611</td>\n",
       "      <td>18.176320</td>\n",
       "    </tr>\n",
       "    <tr>\n",
       "      <th>2024-09-23</th>\n",
       "      <td>16.076802</td>\n",
       "      <td>61.007228</td>\n",
       "      <td>49.476299</td>\n",
       "      <td>91.645330</td>\n",
       "    </tr>\n",
       "    <tr>\n",
       "      <th>2024-09-24</th>\n",
       "      <td>37.466841</td>\n",
       "      <td>53.551722</td>\n",
       "      <td>30.254533</td>\n",
       "      <td>4.706025</td>\n",
       "    </tr>\n",
       "    <tr>\n",
       "      <th>2024-09-25</th>\n",
       "      <td>13.896940</td>\n",
       "      <td>58.452118</td>\n",
       "      <td>46.772790</td>\n",
       "      <td>9.791443</td>\n",
       "    </tr>\n",
       "    <tr>\n",
       "      <th>2024-09-26</th>\n",
       "      <td>71.869453</td>\n",
       "      <td>84.381989</td>\n",
       "      <td>56.447874</td>\n",
       "      <td>84.699215</td>\n",
       "    </tr>\n",
       "  </tbody>\n",
       "</table>\n",
       "<p>1000 rows × 4 columns</p>\n",
       "</div>"
      ],
      "text/plain": [
       "             price_p0   price_p1   price_p2   price_p3\n",
       "2022-01-01  44.851077  91.353280  15.808595  17.097665\n",
       "2022-01-02  21.850374  57.725474  57.604895  85.831561\n",
       "2022-01-03  83.910197   5.880570  89.898453  39.630318\n",
       "2022-01-04  41.209756  67.354724  75.929885  38.352187\n",
       "2022-01-05  92.350472  60.807416  99.002257  48.651800\n",
       "...               ...        ...        ...        ...\n",
       "2024-09-22  87.554837   0.354055  51.003611  18.176320\n",
       "2024-09-23  16.076802  61.007228  49.476299  91.645330\n",
       "2024-09-24  37.466841  53.551722  30.254533   4.706025\n",
       "2024-09-25  13.896940  58.452118  46.772790   9.791443\n",
       "2024-09-26  71.869453  84.381989  56.447874  84.699215\n",
       "\n",
       "[1000 rows x 4 columns]"
      ]
     },
     "execution_count": 3,
     "metadata": {},
     "output_type": "execute_result"
    }
   ],
   "source": [
    "product_df"
   ]
  },
  {
   "cell_type": "code",
   "execution_count": 4,
   "metadata": {},
   "outputs": [
    {
     "name": "stdout",
     "output_type": "stream",
     "text": [
      "Couldn't find program: 'false'\n"
     ]
    }
   ],
   "source": [
    "%%script false\n",
    "df = pd.DataFrame()"
   ]
  },
  {
   "cell_type": "code",
   "execution_count": 5,
   "metadata": {},
   "outputs": [
    {
     "name": "stdout",
     "output_type": "stream",
     "text": [
      "Couldn't find program: 'false'\n"
     ]
    }
   ],
   "source": [
    "%%script false\n",
    "#perform cyclic encoding\n",
    "def encode(data, col, max_val):\n",
    "    data[col + '_sin'] = np.sin(2 * np.pi * data[col]/max_val)\n",
    "    data[col + '_cos'] = np.cos(2 * np.pi * data[col]/max_val)\n",
    "    return data"
   ]
  },
  {
   "cell_type": "code",
   "execution_count": 6,
   "metadata": {},
   "outputs": [
    {
     "name": "stdout",
     "output_type": "stream",
     "text": [
      "Couldn't find program: 'false'\n"
     ]
    }
   ],
   "source": [
    "%%script false\n",
    "\n",
    "# split date into cyclically encoded month (2x) year\n",
    "df['date_month'] = df['date'].dt.month\n",
    "customers = encode(df, 'date_month', 12)\n",
    "customers['year'] = df['date'].dt.year"
   ]
  },
  {
   "cell_type": "code",
   "execution_count": 7,
   "metadata": {},
   "outputs": [
    {
     "name": "stdout",
     "output_type": "stream",
     "text": [
      "Couldn't find program: 'false'\n"
     ]
    }
   ],
   "source": [
    "%%script false\n",
    "# map CommuteDistance\n",
    "map = {'foo':0,'bar':1}\n",
    "df['column_to_replace'].replace(map, inplace=True)"
   ]
  },
  {
   "cell_type": "code",
   "execution_count": 8,
   "metadata": {},
   "outputs": [
    {
     "name": "stdout",
     "output_type": "stream",
     "text": [
      "Couldn't find program: 'false'\n"
     ]
    }
   ],
   "source": [
    "%%script false\n",
    "# replace all object types with categorical type\n",
    "categorical = df.select_dtypes(include=['category']).columns\n",
    "df[categorical] = df[categorical].apply(lambda x: x.cat.codes)"
   ]
  },
  {
   "cell_type": "code",
   "execution_count": 9,
   "metadata": {},
   "outputs": [
    {
     "name": "stdout",
     "output_type": "stream",
     "text": [
      "Couldn't find program: 'false'\n"
     ]
    }
   ],
   "source": [
    "%%script false\n",
    "df['column_to_fill'].fillna(0, inplace=True)"
   ]
  },
  {
   "cell_type": "code",
   "execution_count": 10,
   "metadata": {},
   "outputs": [
    {
     "name": "stdout",
     "output_type": "stream",
     "text": [
      "DatetimeIndex(['2022-01-17', '2022-02-21', '2022-05-30', '2022-07-04',\n",
      "               '2022-09-05', '2022-10-10', '2022-11-11', '2022-11-24',\n",
      "               '2022-12-26', '2023-01-02', '2023-01-16', '2023-02-20',\n",
      "               '2023-05-29', '2023-07-04', '2023-09-04', '2023-10-09',\n",
      "               '2023-11-10', '2023-11-23', '2023-12-25', '2024-01-01',\n",
      "               '2024-01-15', '2024-02-19', '2024-05-27', '2024-07-04',\n",
      "               '2024-09-02'],\n",
      "              dtype='datetime64[ns]', freq=None)\n"
     ]
    }
   ],
   "source": [
    "# might use German Holiday calendar instead\n",
    "# https://github.com/dr-prodigy/python-holidays\n",
    "holidays=USFederalHolidayCalendar()\n",
    "holidays = holidays.holidays(start=start, end=end)\n",
    "print(holidays)"
   ]
  },
  {
   "cell_type": "code",
   "execution_count": 11,
   "metadata": {},
   "outputs": [
    {
     "data": {
      "text/html": [
       "<div>\n",
       "<style scoped>\n",
       "    .dataframe tbody tr th:only-of-type {\n",
       "        vertical-align: middle;\n",
       "    }\n",
       "\n",
       "    .dataframe tbody tr th {\n",
       "        vertical-align: top;\n",
       "    }\n",
       "\n",
       "    .dataframe thead th {\n",
       "        text-align: right;\n",
       "    }\n",
       "</style>\n",
       "<table border=\"1\" class=\"dataframe\">\n",
       "  <thead>\n",
       "    <tr style=\"text-align: right;\">\n",
       "      <th></th>\n",
       "      <th>price_p0</th>\n",
       "      <th>price_p1</th>\n",
       "      <th>price_p2</th>\n",
       "      <th>price_p3</th>\n",
       "      <th>is_holiday</th>\n",
       "      <th>is_weekday</th>\n",
       "      <th>is_weekend</th>\n",
       "    </tr>\n",
       "  </thead>\n",
       "  <tbody>\n",
       "    <tr>\n",
       "      <th>2022-01-01</th>\n",
       "      <td>44.851077</td>\n",
       "      <td>91.353280</td>\n",
       "      <td>15.808595</td>\n",
       "      <td>17.097665</td>\n",
       "      <td>False</td>\n",
       "      <td>False</td>\n",
       "      <td>True</td>\n",
       "    </tr>\n",
       "    <tr>\n",
       "      <th>2022-01-02</th>\n",
       "      <td>21.850374</td>\n",
       "      <td>57.725474</td>\n",
       "      <td>57.604895</td>\n",
       "      <td>85.831561</td>\n",
       "      <td>False</td>\n",
       "      <td>False</td>\n",
       "      <td>True</td>\n",
       "    </tr>\n",
       "    <tr>\n",
       "      <th>2022-01-03</th>\n",
       "      <td>83.910197</td>\n",
       "      <td>5.880570</td>\n",
       "      <td>89.898453</td>\n",
       "      <td>39.630318</td>\n",
       "      <td>False</td>\n",
       "      <td>True</td>\n",
       "      <td>False</td>\n",
       "    </tr>\n",
       "    <tr>\n",
       "      <th>2022-01-04</th>\n",
       "      <td>41.209756</td>\n",
       "      <td>67.354724</td>\n",
       "      <td>75.929885</td>\n",
       "      <td>38.352187</td>\n",
       "      <td>False</td>\n",
       "      <td>True</td>\n",
       "      <td>False</td>\n",
       "    </tr>\n",
       "    <tr>\n",
       "      <th>2022-01-05</th>\n",
       "      <td>92.350472</td>\n",
       "      <td>60.807416</td>\n",
       "      <td>99.002257</td>\n",
       "      <td>48.651800</td>\n",
       "      <td>False</td>\n",
       "      <td>True</td>\n",
       "      <td>False</td>\n",
       "    </tr>\n",
       "    <tr>\n",
       "      <th>2022-01-06</th>\n",
       "      <td>87.808220</td>\n",
       "      <td>22.022812</td>\n",
       "      <td>38.894830</td>\n",
       "      <td>49.920275</td>\n",
       "      <td>False</td>\n",
       "      <td>True</td>\n",
       "      <td>False</td>\n",
       "    </tr>\n",
       "    <tr>\n",
       "      <th>2022-01-07</th>\n",
       "      <td>40.683617</td>\n",
       "      <td>4.567617</td>\n",
       "      <td>28.994387</td>\n",
       "      <td>73.121491</td>\n",
       "      <td>False</td>\n",
       "      <td>True</td>\n",
       "      <td>False</td>\n",
       "    </tr>\n",
       "    <tr>\n",
       "      <th>2022-01-08</th>\n",
       "      <td>80.315370</td>\n",
       "      <td>74.010999</td>\n",
       "      <td>80.934992</td>\n",
       "      <td>94.076763</td>\n",
       "      <td>False</td>\n",
       "      <td>False</td>\n",
       "      <td>True</td>\n",
       "    </tr>\n",
       "    <tr>\n",
       "      <th>2022-01-09</th>\n",
       "      <td>66.602364</td>\n",
       "      <td>40.531539</td>\n",
       "      <td>25.085837</td>\n",
       "      <td>42.351225</td>\n",
       "      <td>False</td>\n",
       "      <td>False</td>\n",
       "      <td>True</td>\n",
       "    </tr>\n",
       "    <tr>\n",
       "      <th>2022-01-10</th>\n",
       "      <td>35.754714</td>\n",
       "      <td>8.395197</td>\n",
       "      <td>78.874691</td>\n",
       "      <td>23.641909</td>\n",
       "      <td>False</td>\n",
       "      <td>True</td>\n",
       "      <td>False</td>\n",
       "    </tr>\n",
       "  </tbody>\n",
       "</table>\n",
       "</div>"
      ],
      "text/plain": [
       "             price_p0   price_p1   price_p2   price_p3  is_holiday  \\\n",
       "2022-01-01  44.851077  91.353280  15.808595  17.097665       False   \n",
       "2022-01-02  21.850374  57.725474  57.604895  85.831561       False   \n",
       "2022-01-03  83.910197   5.880570  89.898453  39.630318       False   \n",
       "2022-01-04  41.209756  67.354724  75.929885  38.352187       False   \n",
       "2022-01-05  92.350472  60.807416  99.002257  48.651800       False   \n",
       "2022-01-06  87.808220  22.022812  38.894830  49.920275       False   \n",
       "2022-01-07  40.683617   4.567617  28.994387  73.121491       False   \n",
       "2022-01-08  80.315370  74.010999  80.934992  94.076763       False   \n",
       "2022-01-09  66.602364  40.531539  25.085837  42.351225       False   \n",
       "2022-01-10  35.754714   8.395197  78.874691  23.641909       False   \n",
       "\n",
       "            is_weekday  is_weekend  \n",
       "2022-01-01       False        True  \n",
       "2022-01-02       False        True  \n",
       "2022-01-03        True       False  \n",
       "2022-01-04        True       False  \n",
       "2022-01-05        True       False  \n",
       "2022-01-06        True       False  \n",
       "2022-01-07        True       False  \n",
       "2022-01-08       False        True  \n",
       "2022-01-09       False        True  \n",
       "2022-01-10        True       False  "
      ]
     },
     "execution_count": 11,
     "metadata": {},
     "output_type": "execute_result"
    }
   ],
   "source": [
    "# weekday starts at 0 -> e. g. Monday = 0, Tuesday = 1\n",
    "product_df['is_holiday'] = product_df.index.isin(holidays)\n",
    "product_df['is_weekday'] = product_df.index.weekday <= 4\n",
    "product_df['is_weekend'] = product_df.index.weekday > 4\n",
    "product_df.head(10)"
   ]
  },
  {
   "cell_type": "code",
   "execution_count": 12,
   "metadata": {},
   "outputs": [],
   "source": [
    "# add some artifical demand -> higher prices, smaller demand with random factor\n",
    "product_df['demand_p0'] = 100 - 1 * product_df['price_p0'] * (1 - 0.1 * np.random.random(size=(len)))\n",
    "product_df['demand_p1'] = 100 - 1 * product_df['price_p1'] * (1 - 0.3 * np.random.random(size=(len)))"
   ]
  },
  {
   "cell_type": "code",
   "execution_count": 13,
   "metadata": {},
   "outputs": [
    {
     "data": {
      "text/html": [
       "<div>\n",
       "<style scoped>\n",
       "    .dataframe tbody tr th:only-of-type {\n",
       "        vertical-align: middle;\n",
       "    }\n",
       "\n",
       "    .dataframe tbody tr th {\n",
       "        vertical-align: top;\n",
       "    }\n",
       "\n",
       "    .dataframe thead th {\n",
       "        text-align: right;\n",
       "    }\n",
       "</style>\n",
       "<table border=\"1\" class=\"dataframe\">\n",
       "  <thead>\n",
       "    <tr style=\"text-align: right;\">\n",
       "      <th></th>\n",
       "      <th>price_p0</th>\n",
       "      <th>price_p1</th>\n",
       "      <th>price_p2</th>\n",
       "      <th>price_p3</th>\n",
       "      <th>is_holiday</th>\n",
       "      <th>is_weekday</th>\n",
       "      <th>is_weekend</th>\n",
       "      <th>demand_p0</th>\n",
       "      <th>demand_p1</th>\n",
       "    </tr>\n",
       "  </thead>\n",
       "  <tbody>\n",
       "    <tr>\n",
       "      <th>2022-01-01</th>\n",
       "      <td>44.851077</td>\n",
       "      <td>91.353280</td>\n",
       "      <td>15.808595</td>\n",
       "      <td>17.097665</td>\n",
       "      <td>False</td>\n",
       "      <td>False</td>\n",
       "      <td>True</td>\n",
       "      <td>57.918552</td>\n",
       "      <td>20.564675</td>\n",
       "    </tr>\n",
       "    <tr>\n",
       "      <th>2022-01-02</th>\n",
       "      <td>21.850374</td>\n",
       "      <td>57.725474</td>\n",
       "      <td>57.604895</td>\n",
       "      <td>85.831561</td>\n",
       "      <td>False</td>\n",
       "      <td>False</td>\n",
       "      <td>True</td>\n",
       "      <td>79.598475</td>\n",
       "      <td>55.596054</td>\n",
       "    </tr>\n",
       "    <tr>\n",
       "      <th>2022-01-03</th>\n",
       "      <td>83.910197</td>\n",
       "      <td>5.880570</td>\n",
       "      <td>89.898453</td>\n",
       "      <td>39.630318</td>\n",
       "      <td>False</td>\n",
       "      <td>True</td>\n",
       "      <td>False</td>\n",
       "      <td>24.169768</td>\n",
       "      <td>95.712651</td>\n",
       "    </tr>\n",
       "    <tr>\n",
       "      <th>2022-01-04</th>\n",
       "      <td>41.209756</td>\n",
       "      <td>67.354724</td>\n",
       "      <td>75.929885</td>\n",
       "      <td>38.352187</td>\n",
       "      <td>False</td>\n",
       "      <td>True</td>\n",
       "      <td>False</td>\n",
       "      <td>60.429258</td>\n",
       "      <td>36.682131</td>\n",
       "    </tr>\n",
       "    <tr>\n",
       "      <th>2022-01-05</th>\n",
       "      <td>92.350472</td>\n",
       "      <td>60.807416</td>\n",
       "      <td>99.002257</td>\n",
       "      <td>48.651800</td>\n",
       "      <td>False</td>\n",
       "      <td>True</td>\n",
       "      <td>False</td>\n",
       "      <td>10.941046</td>\n",
       "      <td>39.621067</td>\n",
       "    </tr>\n",
       "    <tr>\n",
       "      <th>...</th>\n",
       "      <td>...</td>\n",
       "      <td>...</td>\n",
       "      <td>...</td>\n",
       "      <td>...</td>\n",
       "      <td>...</td>\n",
       "      <td>...</td>\n",
       "      <td>...</td>\n",
       "      <td>...</td>\n",
       "      <td>...</td>\n",
       "    </tr>\n",
       "    <tr>\n",
       "      <th>2024-09-22</th>\n",
       "      <td>87.554837</td>\n",
       "      <td>0.354055</td>\n",
       "      <td>51.003611</td>\n",
       "      <td>18.176320</td>\n",
       "      <td>False</td>\n",
       "      <td>False</td>\n",
       "      <td>True</td>\n",
       "      <td>13.133171</td>\n",
       "      <td>99.743090</td>\n",
       "    </tr>\n",
       "    <tr>\n",
       "      <th>2024-09-23</th>\n",
       "      <td>16.076802</td>\n",
       "      <td>61.007228</td>\n",
       "      <td>49.476299</td>\n",
       "      <td>91.645330</td>\n",
       "      <td>False</td>\n",
       "      <td>True</td>\n",
       "      <td>False</td>\n",
       "      <td>84.990352</td>\n",
       "      <td>45.032833</td>\n",
       "    </tr>\n",
       "    <tr>\n",
       "      <th>2024-09-24</th>\n",
       "      <td>37.466841</td>\n",
       "      <td>53.551722</td>\n",
       "      <td>30.254533</td>\n",
       "      <td>4.706025</td>\n",
       "      <td>False</td>\n",
       "      <td>True</td>\n",
       "      <td>False</td>\n",
       "      <td>62.559872</td>\n",
       "      <td>50.560153</td>\n",
       "    </tr>\n",
       "    <tr>\n",
       "      <th>2024-09-25</th>\n",
       "      <td>13.896940</td>\n",
       "      <td>58.452118</td>\n",
       "      <td>46.772790</td>\n",
       "      <td>9.791443</td>\n",
       "      <td>False</td>\n",
       "      <td>True</td>\n",
       "      <td>False</td>\n",
       "      <td>86.999788</td>\n",
       "      <td>42.263056</td>\n",
       "    </tr>\n",
       "    <tr>\n",
       "      <th>2024-09-26</th>\n",
       "      <td>71.869453</td>\n",
       "      <td>84.381989</td>\n",
       "      <td>56.447874</td>\n",
       "      <td>84.699215</td>\n",
       "      <td>False</td>\n",
       "      <td>True</td>\n",
       "      <td>False</td>\n",
       "      <td>30.576631</td>\n",
       "      <td>34.859443</td>\n",
       "    </tr>\n",
       "  </tbody>\n",
       "</table>\n",
       "<p>1000 rows × 9 columns</p>\n",
       "</div>"
      ],
      "text/plain": [
       "             price_p0   price_p1   price_p2   price_p3  is_holiday  \\\n",
       "2022-01-01  44.851077  91.353280  15.808595  17.097665       False   \n",
       "2022-01-02  21.850374  57.725474  57.604895  85.831561       False   \n",
       "2022-01-03  83.910197   5.880570  89.898453  39.630318       False   \n",
       "2022-01-04  41.209756  67.354724  75.929885  38.352187       False   \n",
       "2022-01-05  92.350472  60.807416  99.002257  48.651800       False   \n",
       "...               ...        ...        ...        ...         ...   \n",
       "2024-09-22  87.554837   0.354055  51.003611  18.176320       False   \n",
       "2024-09-23  16.076802  61.007228  49.476299  91.645330       False   \n",
       "2024-09-24  37.466841  53.551722  30.254533   4.706025       False   \n",
       "2024-09-25  13.896940  58.452118  46.772790   9.791443       False   \n",
       "2024-09-26  71.869453  84.381989  56.447874  84.699215       False   \n",
       "\n",
       "            is_weekday  is_weekend  demand_p0  demand_p1  \n",
       "2022-01-01       False        True  57.918552  20.564675  \n",
       "2022-01-02       False        True  79.598475  55.596054  \n",
       "2022-01-03        True       False  24.169768  95.712651  \n",
       "2022-01-04        True       False  60.429258  36.682131  \n",
       "2022-01-05        True       False  10.941046  39.621067  \n",
       "...                ...         ...        ...        ...  \n",
       "2024-09-22       False        True  13.133171  99.743090  \n",
       "2024-09-23        True       False  84.990352  45.032833  \n",
       "2024-09-24        True       False  62.559872  50.560153  \n",
       "2024-09-25        True       False  86.999788  42.263056  \n",
       "2024-09-26        True       False  30.576631  34.859443  \n",
       "\n",
       "[1000 rows x 9 columns]"
      ]
     },
     "execution_count": 13,
     "metadata": {},
     "output_type": "execute_result"
    }
   ],
   "source": [
    "product_df"
   ]
  },
  {
   "cell_type": "code",
   "execution_count": 14,
   "metadata": {},
   "outputs": [
    {
     "data": {
      "text/plain": [
       "Text(0.5, 1.0, 'Correlation between features')"
      ]
     },
     "execution_count": 14,
     "metadata": {},
     "output_type": "execute_result"
    },
    {
     "data": {
      "image/png": "[encoded data removed]",
      "text/plain": [
       "<Figure size 576x396 with 2 Axes>"
      ]
     },
     "metadata": {},
     "output_type": "display_data"
    }
   ],
   "source": [
    "# Test correlation between features, plot should show high correlation between is weekend\n",
    "# and is holiday. Due to linearity assumption there should be a positive correlation between\n",
    "# price and demand.\n",
    "\n",
    "corr = product_df.corr()\n",
    "g = sns.heatmap(corr)\n",
    "g.set_title(\"Correlation between features\")"
   ]
  },
  {
   "cell_type": "code",
   "execution_count": 15,
   "metadata": {},
   "outputs": [
    {
     "data": {
      "text/plain": [
       "<seaborn.axisgrid.FacetGrid at 0x1aa1febe4f0>"
      ]
     },
     "execution_count": 15,
     "metadata": {},
     "output_type": "execute_result"
    },
    {
     "data": {
      "image/png": "[encoded data removed]",
      "text/plain": [
       "<Figure size 360x360 with 1 Axes>"
      ]
     },
     "metadata": {},
     "output_type": "display_data"
    }
   ],
   "source": [
    "# plot price against demand\n",
    "g = sns.lmplot(data=product_df, x='price_p0', y='demand_p0')\n",
    "g.set_axis_labels(\"prices in USD\", \"Demand in USD\")"
   ]
  },
  {
   "cell_type": "code",
   "execution_count": 16,
   "metadata": {},
   "outputs": [
    {
     "data": {
      "text/plain": [
       "<seaborn.axisgrid.FacetGrid at 0x1aa1ffc90a0>"
      ]
     },
     "execution_count": 16,
     "metadata": {},
     "output_type": "execute_result"
    },
    {
     "data": {
      "image/png": "[encoded data removed]",
      "text/plain": [
       "<Figure size 360x360 with 1 Axes>"
      ]
     },
     "metadata": {},
     "output_type": "display_data"
    }
   ],
   "source": [
    "# test log transform, shouldn't be applied due to linear assumption in the model given above\n",
    "product_df['log_price_p0'] = np.log(product_df['price_p0'])\n",
    "product_df['log_demand_p0'] = np.log(product_df['demand_p0'])\n",
    "g = sns.lmplot(data=product_df, x='log_price_p0', y='log_demand_p0')\n",
    "g.set_axis_labels(\"prices in USD (log)\", \"Demand in USD (log)\")"
   ]
  },
  {
   "cell_type": "code",
   "execution_count": 17,
   "metadata": {},
   "outputs": [],
   "source": [
    "X_p0 = product_df[product_df.columns.difference(['demand_p0', 'log_demand_p0', 'log_price_p0'])]\n",
    "y_p0 = product_df['demand_p0']\n",
    "\n",
    "X_p1 = product_df[product_df.columns.difference(['demand_p1','log_demand_p0', 'log_price_p0'])]\n",
    "y_p1 = product_df['demand_p1']\n",
    "\n",
    "# do NOT shuffle to prevent leakage over time\n",
    "X_train_p0, X_test_p0, y_train_p0, y_test_p0, X_train_p1, X_test_p1, y_train_p1, y_test_p1 = train_test_split(X_p0, y_p0, X_p1, y_p1, shuffle=False)"
   ]
  },
  {
   "cell_type": "code",
   "execution_count": 18,
   "metadata": {},
   "outputs": [
    {
     "data": {
      "text/html": [
       "<div>\n",
       "<style scoped>\n",
       "    .dataframe tbody tr th:only-of-type {\n",
       "        vertical-align: middle;\n",
       "    }\n",
       "\n",
       "    .dataframe tbody tr th {\n",
       "        vertical-align: top;\n",
       "    }\n",
       "\n",
       "    .dataframe thead th {\n",
       "        text-align: right;\n",
       "    }\n",
       "</style>\n",
       "<table border=\"1\" class=\"dataframe\">\n",
       "  <thead>\n",
       "    <tr style=\"text-align: right;\">\n",
       "      <th></th>\n",
       "      <th>demand_p1</th>\n",
       "      <th>is_holiday</th>\n",
       "      <th>is_weekday</th>\n",
       "      <th>is_weekend</th>\n",
       "      <th>price_p0</th>\n",
       "      <th>price_p1</th>\n",
       "      <th>price_p2</th>\n",
       "      <th>price_p3</th>\n",
       "    </tr>\n",
       "  </thead>\n",
       "  <tbody>\n",
       "    <tr>\n",
       "      <th>2022-01-01</th>\n",
       "      <td>20.564675</td>\n",
       "      <td>False</td>\n",
       "      <td>False</td>\n",
       "      <td>True</td>\n",
       "      <td>44.851077</td>\n",
       "      <td>91.353280</td>\n",
       "      <td>15.808595</td>\n",
       "      <td>17.097665</td>\n",
       "    </tr>\n",
       "    <tr>\n",
       "      <th>2022-01-02</th>\n",
       "      <td>55.596054</td>\n",
       "      <td>False</td>\n",
       "      <td>False</td>\n",
       "      <td>True</td>\n",
       "      <td>21.850374</td>\n",
       "      <td>57.725474</td>\n",
       "      <td>57.604895</td>\n",
       "      <td>85.831561</td>\n",
       "    </tr>\n",
       "    <tr>\n",
       "      <th>2022-01-03</th>\n",
       "      <td>95.712651</td>\n",
       "      <td>False</td>\n",
       "      <td>True</td>\n",
       "      <td>False</td>\n",
       "      <td>83.910197</td>\n",
       "      <td>5.880570</td>\n",
       "      <td>89.898453</td>\n",
       "      <td>39.630318</td>\n",
       "    </tr>\n",
       "    <tr>\n",
       "      <th>2022-01-04</th>\n",
       "      <td>36.682131</td>\n",
       "      <td>False</td>\n",
       "      <td>True</td>\n",
       "      <td>False</td>\n",
       "      <td>41.209756</td>\n",
       "      <td>67.354724</td>\n",
       "      <td>75.929885</td>\n",
       "      <td>38.352187</td>\n",
       "    </tr>\n",
       "    <tr>\n",
       "      <th>2022-01-05</th>\n",
       "      <td>39.621067</td>\n",
       "      <td>False</td>\n",
       "      <td>True</td>\n",
       "      <td>False</td>\n",
       "      <td>92.350472</td>\n",
       "      <td>60.807416</td>\n",
       "      <td>99.002257</td>\n",
       "      <td>48.651800</td>\n",
       "    </tr>\n",
       "  </tbody>\n",
       "</table>\n",
       "</div>"
      ],
      "text/plain": [
       "            demand_p1  is_holiday  is_weekday  is_weekend   price_p0  \\\n",
       "2022-01-01  20.564675       False       False        True  44.851077   \n",
       "2022-01-02  55.596054       False       False        True  21.850374   \n",
       "2022-01-03  95.712651       False        True       False  83.910197   \n",
       "2022-01-04  36.682131       False        True       False  41.209756   \n",
       "2022-01-05  39.621067       False        True       False  92.350472   \n",
       "\n",
       "             price_p1   price_p2   price_p3  \n",
       "2022-01-01  91.353280  15.808595  17.097665  \n",
       "2022-01-02  57.725474  57.604895  85.831561  \n",
       "2022-01-03   5.880570  89.898453  39.630318  \n",
       "2022-01-04  67.354724  75.929885  38.352187  \n",
       "2022-01-05  60.807416  99.002257  48.651800  "
      ]
     },
     "execution_count": 18,
     "metadata": {},
     "output_type": "execute_result"
    }
   ],
   "source": [
    "X_train_p0.head()"
   ]
  },
  {
   "cell_type": "code",
   "execution_count": 19,
   "metadata": {},
   "outputs": [
    {
     "data": {
      "text/html": [
       "<div>\n",
       "<style scoped>\n",
       "    .dataframe tbody tr th:only-of-type {\n",
       "        vertical-align: middle;\n",
       "    }\n",
       "\n",
       "    .dataframe tbody tr th {\n",
       "        vertical-align: top;\n",
       "    }\n",
       "\n",
       "    .dataframe thead th {\n",
       "        text-align: right;\n",
       "    }\n",
       "</style>\n",
       "<table border=\"1\" class=\"dataframe\">\n",
       "  <thead>\n",
       "    <tr style=\"text-align: right;\">\n",
       "      <th></th>\n",
       "      <th>demand_p0</th>\n",
       "      <th>is_holiday</th>\n",
       "      <th>is_weekday</th>\n",
       "      <th>is_weekend</th>\n",
       "      <th>price_p0</th>\n",
       "      <th>price_p1</th>\n",
       "      <th>price_p2</th>\n",
       "      <th>price_p3</th>\n",
       "    </tr>\n",
       "  </thead>\n",
       "  <tbody>\n",
       "    <tr>\n",
       "      <th>2022-01-01</th>\n",
       "      <td>57.918552</td>\n",
       "      <td>False</td>\n",
       "      <td>False</td>\n",
       "      <td>True</td>\n",
       "      <td>44.851077</td>\n",
       "      <td>91.353280</td>\n",
       "      <td>15.808595</td>\n",
       "      <td>17.097665</td>\n",
       "    </tr>\n",
       "    <tr>\n",
       "      <th>2022-01-02</th>\n",
       "      <td>79.598475</td>\n",
       "      <td>False</td>\n",
       "      <td>False</td>\n",
       "      <td>True</td>\n",
       "      <td>21.850374</td>\n",
       "      <td>57.725474</td>\n",
       "      <td>57.604895</td>\n",
       "      <td>85.831561</td>\n",
       "    </tr>\n",
       "    <tr>\n",
       "      <th>2022-01-03</th>\n",
       "      <td>24.169768</td>\n",
       "      <td>False</td>\n",
       "      <td>True</td>\n",
       "      <td>False</td>\n",
       "      <td>83.910197</td>\n",
       "      <td>5.880570</td>\n",
       "      <td>89.898453</td>\n",
       "      <td>39.630318</td>\n",
       "    </tr>\n",
       "    <tr>\n",
       "      <th>2022-01-04</th>\n",
       "      <td>60.429258</td>\n",
       "      <td>False</td>\n",
       "      <td>True</td>\n",
       "      <td>False</td>\n",
       "      <td>41.209756</td>\n",
       "      <td>67.354724</td>\n",
       "      <td>75.929885</td>\n",
       "      <td>38.352187</td>\n",
       "    </tr>\n",
       "    <tr>\n",
       "      <th>2022-01-05</th>\n",
       "      <td>10.941046</td>\n",
       "      <td>False</td>\n",
       "      <td>True</td>\n",
       "      <td>False</td>\n",
       "      <td>92.350472</td>\n",
       "      <td>60.807416</td>\n",
       "      <td>99.002257</td>\n",
       "      <td>48.651800</td>\n",
       "    </tr>\n",
       "  </tbody>\n",
       "</table>\n",
       "</div>"
      ],
      "text/plain": [
       "            demand_p0  is_holiday  is_weekday  is_weekend   price_p0  \\\n",
       "2022-01-01  57.918552       False       False        True  44.851077   \n",
       "2022-01-02  79.598475       False       False        True  21.850374   \n",
       "2022-01-03  24.169768       False        True       False  83.910197   \n",
       "2022-01-04  60.429258       False        True       False  41.209756   \n",
       "2022-01-05  10.941046       False        True       False  92.350472   \n",
       "\n",
       "             price_p1   price_p2   price_p3  \n",
       "2022-01-01  91.353280  15.808595  17.097665  \n",
       "2022-01-02  57.725474  57.604895  85.831561  \n",
       "2022-01-03   5.880570  89.898453  39.630318  \n",
       "2022-01-04  67.354724  75.929885  38.352187  \n",
       "2022-01-05  60.807416  99.002257  48.651800  "
      ]
     },
     "execution_count": 19,
     "metadata": {},
     "output_type": "execute_result"
    }
   ],
   "source": [
    "X_train_p1.head()"
   ]
  },
  {
   "cell_type": "markdown",
   "metadata": {},
   "source": [
    "## Create simple baseline"
   ]
  },
  {
   "cell_type": "code",
   "execution_count": 20,
   "metadata": {},
   "outputs": [
    {
     "name": "stdout",
     "output_type": "stream",
     "text": [
      "(750, 8)\n",
      "(750,)\n"
     ]
    }
   ],
   "source": [
    "print(X_train_p0.shape)\n",
    "print(y_train_p0.shape)"
   ]
  },
  {
   "cell_type": "code",
   "execution_count": 21,
   "metadata": {},
   "outputs": [],
   "source": [
    "# create simple predictor for product 0\n",
    "lr_p0 = LinearRegression().fit(X_train_p0, y_train_p0)\n",
    "y_pred = lr_p0.predict(X_test_p0)"
   ]
  },
  {
   "cell_type": "code",
   "execution_count": 22,
   "metadata": {},
   "outputs": [
    {
     "name": "stdout",
     "output_type": "stream",
     "text": [
      "R2:0.9958309172189521\n",
      "MSE:3.1471351659848468\n"
     ]
    }
   ],
   "source": [
    "r2 = r2_score(y_test_p0, y_pred)\n",
    "mse = mean_squared_error(y_test_p0, y_pred)\n",
    "\n",
    "print(f\"R2:{r2}\")\n",
    "print(f\"MSE:{mse}\")"
   ]
  },
  {
   "cell_type": "code",
   "execution_count": 23,
   "metadata": {},
   "outputs": [
    {
     "data": {
      "image/png": "[encoded data removed]",
      "text/plain": [
       "<Figure size 576x396 with 2 Axes>"
      ]
     },
     "metadata": {},
     "output_type": "display_data"
    },
    {
     "data": {
      "text/plain": [
       "<AxesSubplot:title={'center':'Residuals for LinearRegression Model'}, xlabel='Predicted Value', ylabel='Residuals'>"
      ]
     },
     "execution_count": 23,
     "metadata": {},
     "output_type": "execute_result"
    }
   ],
   "source": [
    "# explained variance should be high\n",
    "visualizer = ResidualsPlot(lr_p0, is_fitted=True)\n",
    "visualizer.score(X_test_p0,y_test_p0)\n",
    "visualizer.show()"
   ]
  },
  {
   "cell_type": "code",
   "execution_count": 24,
   "metadata": {},
   "outputs": [
    {
     "data": {
      "image/png": "[encoded data removed]",
      "text/plain": [
       "<Figure size 576x396 with 1 Axes>"
      ]
     },
     "metadata": {},
     "output_type": "display_data"
    },
    {
     "data": {
      "text/plain": [
       "<AxesSubplot:title={'center':'Prediction Error for LinearRegression'}, xlabel='$y$', ylabel='$\\\\hat{y}$'>"
      ]
     },
     "execution_count": 24,
     "metadata": {},
     "output_type": "execute_result"
    }
   ],
   "source": [
    "visualizer = PredictionError(lr_p0, is_fitted=True)\n",
    "visualizer.score(X_test_p0,y_test_p0)\n",
    "visualizer.show()"
   ]
  },
  {
   "cell_type": "code",
   "execution_count": 25,
   "metadata": {},
   "outputs": [],
   "source": [
    "# create simple predictor for product 1\n",
    "lr_p1 = LinearRegression().fit(X_train_p1, y_train_p1)\n",
    "y_pred = lr_p1.predict(X_test_p1)"
   ]
  },
  {
   "cell_type": "markdown",
   "metadata": {},
   "source": [
    "## Create second simple baseline"
   ]
  },
  {
   "cell_type": "code",
   "execution_count": 26,
   "metadata": {},
   "outputs": [
    {
     "name": "stdout",
     "output_type": "stream",
     "text": [
      "Couldn't find program: 'false'\n"
     ]
    }
   ],
   "source": [
    "%%script false\n",
    "cat = CatBoostRegressor(task_type='GPU')\n",
    "cat.fit(X_train_p1, y_train_p1)\n",
    "\n",
    "y_pred = cat.predict(X_test_p1)"
   ]
  },
  {
   "cell_type": "code",
   "execution_count": 27,
   "metadata": {},
   "outputs": [
    {
     "name": "stdout",
     "output_type": "stream",
     "text": [
      "Couldn't find program: 'false'\n"
     ]
    }
   ],
   "source": [
    "%%script false\n",
    "r2 = r2_score(y_test_p1, y_pred)\n",
    "mse = mean_squared_error(y_test_p1, y_pred)\n",
    "\n",
    "print(f\"R2:{r2}\")\n",
    "print(f\"MSE:{mse}\")"
   ]
  },
  {
   "cell_type": "code",
   "execution_count": 28,
   "metadata": {},
   "outputs": [
    {
     "name": "stdout",
     "output_type": "stream",
     "text": [
      "Couldn't find program: 'false'\n"
     ]
    }
   ],
   "source": [
    "%%script false\n",
    "# explained variance should be high\n",
    "visualizer = ResidualsPlot(cat, is_fitted=True)\n",
    "visualizer.score(X_test_p1,y_test_p1)\n",
    "visualizer.show()"
   ]
  },
  {
   "cell_type": "code",
   "execution_count": 29,
   "metadata": {},
   "outputs": [
    {
     "name": "stdout",
     "output_type": "stream",
     "text": [
      "Couldn't find program: 'false'\n"
     ]
    }
   ],
   "source": [
    "%%script false\n",
    "visualizer = PredictionError(cat, is_fitted=True)\n",
    "visualizer.score(X_test_p1,y_test_p1)\n",
    "visualizer.show()"
   ]
  },
  {
   "cell_type": "code",
   "execution_count": 30,
   "metadata": {},
   "outputs": [
    {
     "name": "stdout",
     "output_type": "stream",
     "text": [
      "Couldn't find program: 'false'\n"
     ]
    }
   ],
   "source": [
    "%%script false\n",
    "# show feature importances of GBM\n",
    "viz = FeatureImportances(regressor(cat), is_fitted=True, topn=len(X_train_p1.columns))\n",
    "viz.fit(X_train_p1, y_train_p1)\n",
    "viz.show()"
   ]
  },
  {
   "cell_type": "markdown",
   "metadata": {},
   "source": [
    "## Optimize product portfolio"
   ]
  },
  {
   "cell_type": "code",
   "execution_count": 31,
   "metadata": {},
   "outputs": [],
   "source": [
    "%%script false\n",
    "# implement BGFS\n",
    "def neg_margin(model_p0, model_p1, X_p0, X_p1, cost_p0 = 50, cost_p1 = 30):\n",
    "\n",
    "    demand_p0 = model_p0.predict(X_p0)\n",
    "    demand_p1 = model_p1.predict(X_p1) \n",
    "\n",
    "    return - demand_p0 * (X_p0['price_p0']-cost_p0) - demand_p1 * (X_p1['price_p1']-cost_p1])\n",
    "\n",
    "# risk budgeting approach optimisation object function\n",
    "def obj_fun(x, p_cov, rb):\n",
    "\treturn np.sum((x*np.dot(p_cov, x)/np.dot(x.transpose(), np.dot(p_cov, x))-rb)**2)\n",
    "\n",
    "# add constraints, initial guesses etc. [...]\n",
    "# minimize(obj_fun, w0, args=(p_cov, rb), method='L-BFGS-B', constraints=cons)\n"
   ]
  }
 ],
 "metadata": {
  "interpreter": {
   "hash": "89c5e0482d4b08d9cea6f395d8986fff22507028bfbe45679854b25b4f0d191b"
  },
  "kernelspec": {
   "display_name": "Python 3.9.7 64-bit ('base': conda)",
   "language": "python",
   "name": "python3"
  },
  "language_info": {
   "codemirror_mode": {
    "name": "ipython",
    "version": 3
   },
   "file_extension": ".py",
   "mimetype": "text/x-python",
   "name": "python",
   "nbconvert_exporter": "python",
   "pygments_lexer": "ipython3",
   "version": "3.9.7"
  },
  "orig_nbformat": 4
 },
 "nbformat": 4,
 "nbformat_minor": 2
}
